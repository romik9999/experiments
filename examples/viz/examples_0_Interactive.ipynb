{
 "cells": [
  {
   "cell_type": "code",
   "execution_count": 1,
   "metadata": {
    "collapsed": true
   },
   "outputs": [],
   "source": [
    "import matplotlib.pyplot as plt\n",
    "import matplotlib as mpl\n",
    "import pandas as pd\n",
    "import numpy as np\n",
    "from ipywidgets import interact, interactive, fixed, interact_manual\n",
    "import ipywidgets as widgets"
   ]
  },
  {
   "cell_type": "code",
   "execution_count": 2,
   "metadata": {
    "collapsed": true
   },
   "outputs": [],
   "source": [
    "%matplotlib inline"
   ]
  },
  {
   "cell_type": "code",
   "execution_count": 3,
   "metadata": {},
   "outputs": [],
   "source": [
    "%matplotlib inline\n",
    "plt.rcParams['figure.figsize'] = (6,4)\n",
    "plt.rcParams['figure.dpi'] = 150"
   ]
  },
  {
   "cell_type": "code",
   "execution_count": 4,
   "metadata": {
    "collapsed": true
   },
   "outputs": [],
   "source": [
    "def f2(df, day_idx):\n",
    "    df1 = df[df['TradingDay'] == day_idx]\n",
    "    df1 = df1[['Contry', 'Count']].groupby(by='Contry').sum().reset_index()\n",
    "    plt.bar(df1['Contry'], df1['Count'])\n",
    "    plt.show()"
   ]
  },
  {
   "cell_type": "code",
   "execution_count": 5,
   "metadata": {
    "collapsed": true
   },
   "outputs": [],
   "source": [
    "def encode(df, columns, how):\n",
    "    res_dicts = {}\n",
    "    rev_dicts = {}\n",
    "    for i, c in enumerate(columns):\n",
    "        entities = df[c].value_counts().index.values\n",
    "        if how[i] == 'by_order':\n",
    "            entities = sorted(entities)\n",
    "        labels = {entities[i]: i for i in range(len(entities))}\n",
    "        df[c] = df[c].map(labels).ffill()\n",
    "        res_dicts[c] = labels\n",
    "        rev_dicts[c] = {v: k for (k, v) in labels.items()}\n",
    "    return res_dicts, rev_dicts"
   ]
  },
  {
   "cell_type": "code",
   "execution_count": 66,
   "metadata": {},
   "outputs": [
    {
     "name": "stderr",
     "output_type": "stream",
     "text": [
      "/home/roman/anaconda3/lib/python3.6/site-packages/IPython/core/interactiveshell.py:2698: DtypeWarning: Columns (8,10) have mixed types. Specify dtype option on import or set low_memory=False.\n",
      "  interactivity=interactivity, compiler=compiler, result=result)\n"
     ]
    },
    {
     "name": "stdout",
     "output_type": "stream",
     "text": [
      "   Direction  TradingDay  Count  Contry  TradingMonth  TradingYear\n",
      "0          0           0   50.0     0.0             0            0\n",
      "1          0           0  100.0     0.0             0            0\n",
      "2          0           0    1.0     0.0             0            0\n",
      "3          0           0    2.0     0.0             0            0\n",
      "4          0           0    2.0     0.0             0            0\n"
     ]
    }
   ],
   "source": [
    "df = pd.read_csv('/home/roman/code/work/FlowersSupply/7flowers/orders_train.csv')\n",
    "df = df[['Direction', 'TradingDay', 'Count', 'Contry']]\n",
    "df['TradingMonth'] = df['TradingDay'].apply(lambda x: x.split('-')[1])\n",
    "df['TradingYear'] = df['TradingDay'].apply(lambda x: x.split('-')[0])\n",
    "\n",
    "res_dicts, rev_dicts = encode(df, ['Direction', 'TradingDay', 'TradingMonth', 'TradingYear', 'Contry'],\n",
    "                                  how=['by_value_counts', 'by_order', 'by_order', 'by_order', 'by_value_counts'])\n",
    "# res_dicts = encode(df, ['TradingDay'], how=['by_order'])\n",
    "\n",
    "print(df.head())"
   ]
  },
  {
   "cell_type": "code",
   "execution_count": 68,
   "metadata": {},
   "outputs": [
    {
     "name": "stdout",
     "output_type": "stream",
     "text": [
      "0 НИДЕРЛАНДЫ\n",
      "1 КЕНИЯ\n",
      "2 ЭКВАДОР\n",
      "3 РОССИЯ\n",
      "4 КОЛУМБИЯ\n",
      "5 ИЗРАИЛЬ\n",
      "6 ИТАЛИЯ\n",
      "7 ЭФИОПИЯ\n",
      "8 ТАИЛАНД\n",
      "9 ИСПАНИЯ\n",
      "10 СОЕДИНЕННОЕ КОРОЛЕВСТВО\n",
      "11 АРМЕНИЯ\n"
     ]
    }
   ],
   "source": [
    "for k, v in rev_dicts['Contry'].items():\n",
    "    print(k, v)\n",
    "    if k > 10:\n",
    "        break"
   ]
  },
  {
   "cell_type": "code",
   "execution_count": 48,
   "metadata": {},
   "outputs": [],
   "source": [
    "df1 = df.loc[df['Contry'] < 10]"
   ]
  },
  {
   "cell_type": "code",
   "execution_count": 51,
   "metadata": {
    "collapsed": true
   },
   "outputs": [],
   "source": [
    "def look_through_months(month_idx):\n",
    "    df2 = df1.loc[df1['TradingMonth'] == month_idx]\n",
    "    df2 = df2[['Contry', 'Count']].groupby(by='Contry').sum().reset_index()\n",
    "    plt.bar(df2['Contry'], df2['Count'])\n",
    "    plt.ylim(10000, 6000000)\n",
    "    plt.show()"
   ]
  },
  {
   "cell_type": "code",
   "execution_count": 52,
   "metadata": {},
   "outputs": [
    {
     "data": {
      "application/vnd.jupyter.widget-view+json": {
       "model_id": "dab8f0cd351e4b5580003094a5d8a1b5",
       "version_major": 2,
       "version_minor": 0
      },
      "text/plain": [
       "A Jupyter Widget"
      ]
     },
     "metadata": {},
     "output_type": "display_data"
    },
    {
     "data": {
      "text/plain": [
       "<function __main__.look_through_months>"
      ]
     },
     "execution_count": 52,
     "metadata": {},
     "output_type": "execute_result"
    }
   ],
   "source": [
    "look_through_months\n",
    "interact(look_through_months, month_idx=10)"
   ]
  },
  {
   "cell_type": "code",
   "execution_count": 61,
   "metadata": {
    "collapsed": true
   },
   "outputs": [],
   "source": [
    "def look_through_months_and_years(month_idx, year_idx):\n",
    "    df2 = df1.loc[(df1['TradingMonth'] == month_idx) & (df1['TradingYear'] == year_idx)]\n",
    "    df2 = df2[['Contry', 'Count']].groupby(by='Contry').sum().reset_index()\n",
    "    plt.bar(df2['Contry'], df2['Count'])\n",
    "    plt.ylim(10000, 4200000)\n",
    "    plt.show()"
   ]
  },
  {
   "cell_type": "code",
   "execution_count": 62,
   "metadata": {},
   "outputs": [
    {
     "data": {
      "application/vnd.jupyter.widget-view+json": {
       "model_id": "46f355565f0b43b68a9adb6d7b415181",
       "version_major": 2,
       "version_minor": 0
      },
      "text/plain": [
       "A Jupyter Widget"
      ]
     },
     "metadata": {},
     "output_type": "display_data"
    },
    {
     "data": {
      "text/plain": [
       "<function __main__.look_through_months_and_years>"
      ]
     },
     "execution_count": 62,
     "metadata": {},
     "output_type": "execute_result"
    }
   ],
   "source": [
    "interact(look_through_months_and_years, month_idx=10, year_idx=1)"
   ]
  },
  {
   "cell_type": "code",
   "execution_count": null,
   "metadata": {
    "collapsed": true
   },
   "outputs": [],
   "source": [
    "    "
   ]
  }
 ],
 "metadata": {
  "kernelspec": {
   "display_name": "Python 3",
   "language": "python",
   "name": "python3"
  },
  "language_info": {
   "codemirror_mode": {
    "name": "ipython",
    "version": 3
   },
   "file_extension": ".py",
   "mimetype": "text/x-python",
   "name": "python",
   "nbconvert_exporter": "python",
   "pygments_lexer": "ipython3",
   "version": "3.6.3"
  }
 },
 "nbformat": 4,
 "nbformat_minor": 2
}
